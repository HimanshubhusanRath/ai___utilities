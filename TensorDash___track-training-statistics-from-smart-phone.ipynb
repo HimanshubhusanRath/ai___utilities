{
 "cells": [
  {
   "cell_type": "markdown",
   "metadata": {},
   "source": [
    "## 1. Data Loading and Preprocessing"
   ]
  },
  {
   "cell_type": "code",
   "execution_count": 1,
   "metadata": {
    "scrolled": true
   },
   "outputs": [
    {
     "name": "stderr",
     "output_type": "stream",
     "text": [
      "Using TensorFlow backend.\n"
     ]
    }
   ],
   "source": [
    "# import necessary libraries and functions\n",
    "%matplotlib inline\n",
    "\n",
    "import numpy as np\n",
    "import pandas as pd\n",
    "from glob import glob\n",
    "import matplotlib.pyplot as plt\n",
    "\n",
    "from keras.layers import Dense\n",
    "from keras.models import Sequential\n",
    "from keras.preprocessing import image\n",
    "\n",
    "from sklearn.model_selection import train_test_split"
   ]
  },
  {
   "cell_type": "code",
   "execution_count": 2,
   "metadata": {},
   "outputs": [],
   "source": [
    "# create random number generator\n",
    "seed = 42\n",
    "rng = np.random.RandomState(seed)"
   ]
  },
  {
   "cell_type": "code",
   "execution_count": 3,
   "metadata": {},
   "outputs": [],
   "source": [
    "# load csv file\n",
    "data = pd.read_csv('../MachineLearning/datasets/emergency_classification/emergency_classification.csv')"
   ]
  },
  {
   "cell_type": "code",
   "execution_count": 4,
   "metadata": {},
   "outputs": [
    {
     "data": {
      "text/html": [
       "<div>\n",
       "<style scoped>\n",
       "    .dataframe tbody tr th:only-of-type {\n",
       "        vertical-align: middle;\n",
       "    }\n",
       "\n",
       "    .dataframe tbody tr th {\n",
       "        vertical-align: top;\n",
       "    }\n",
       "\n",
       "    .dataframe thead th {\n",
       "        text-align: right;\n",
       "    }\n",
       "</style>\n",
       "<table border=\"1\" class=\"dataframe\">\n",
       "  <thead>\n",
       "    <tr style=\"text-align: right;\">\n",
       "      <th></th>\n",
       "      <th>image_names</th>\n",
       "      <th>emergency_or_not</th>\n",
       "    </tr>\n",
       "  </thead>\n",
       "  <tbody>\n",
       "    <tr>\n",
       "      <th>0</th>\n",
       "      <td>0.jpg</td>\n",
       "      <td>1</td>\n",
       "    </tr>\n",
       "    <tr>\n",
       "      <th>1</th>\n",
       "      <td>1.jpg</td>\n",
       "      <td>1</td>\n",
       "    </tr>\n",
       "    <tr>\n",
       "      <th>2</th>\n",
       "      <td>2.jpg</td>\n",
       "      <td>1</td>\n",
       "    </tr>\n",
       "    <tr>\n",
       "      <th>3</th>\n",
       "      <td>3.jpg</td>\n",
       "      <td>1</td>\n",
       "    </tr>\n",
       "  </tbody>\n",
       "</table>\n",
       "</div>"
      ],
      "text/plain": [
       "  image_names  emergency_or_not\n",
       "0       0.jpg                 1\n",
       "1       1.jpg                 1\n",
       "2       2.jpg                 1\n",
       "3       3.jpg                 1"
      ]
     },
     "execution_count": 4,
     "metadata": {},
     "output_type": "execute_result"
    }
   ],
   "source": [
    "data.head(4)"
   ]
  },
  {
   "cell_type": "code",
   "execution_count": 5,
   "metadata": {},
   "outputs": [],
   "source": [
    "# load images and store it in numpy array\n",
    "X = []\n",
    "for img_name in data.image_names:\n",
    "    img = plt.imread('../MachineLearning/datasets/emergency_classification/images/' + img_name)\n",
    "    X.append(img)\n",
    "    \n",
    "X=np.array(X)\n",
    "\n",
    "# create target\n",
    "y = data.emergency_or_not.values"
   ]
  },
  {
   "cell_type": "code",
   "execution_count": 6,
   "metadata": {
    "scrolled": true
   },
   "outputs": [],
   "source": [
    "# reshape to one single row\n",
    "X = X.reshape(2352, 224*224*3)"
   ]
  },
  {
   "cell_type": "code",
   "execution_count": 7,
   "metadata": {},
   "outputs": [],
   "source": [
    "# preprocessing\n",
    "X = X / X.max()"
   ]
  },
  {
   "cell_type": "code",
   "execution_count": 8,
   "metadata": {},
   "outputs": [],
   "source": [
    "# set aside validation data\n",
    "X_train, X_valid, y_train, y_valid=train_test_split(X,y,test_size=0.3, random_state=seed)"
   ]
  },
  {
   "cell_type": "markdown",
   "metadata": {},
   "source": [
    "## 2. Model Building"
   ]
  },
  {
   "cell_type": "code",
   "execution_count": 13,
   "metadata": {},
   "outputs": [],
   "source": [
    "model=Sequential()\n",
    "\n",
    "model.add(Dense(50, input_dim=224*224*3, activation='sigmoid'))\n",
    "model.add(Dense(50, activation='sigmoid'))\n",
    "model.add(Dense(units=1, activation='sigmoid'))\n",
    "\n",
    "model.compile(loss='binary_crossentropy', optimizer=\"sgd\", metrics=['accuracy'])"
   ]
  },
  {
   "cell_type": "code",
   "execution_count": 14,
   "metadata": {},
   "outputs": [
    {
     "name": "stdout",
     "output_type": "stream",
     "text": [
      "Model: \"sequential_2\"\n",
      "_________________________________________________________________\n",
      "Layer (type)                 Output Shape              Param #   \n",
      "=================================================================\n",
      "dense_4 (Dense)              (None, 50)                7526450   \n",
      "_________________________________________________________________\n",
      "dense_5 (Dense)              (None, 50)                2550      \n",
      "_________________________________________________________________\n",
      "dense_6 (Dense)              (None, 1)                 51        \n",
      "=================================================================\n",
      "Total params: 7,529,051\n",
      "Trainable params: 7,529,051\n",
      "Non-trainable params: 0\n",
      "_________________________________________________________________\n"
     ]
    }
   ],
   "source": [
    "model.summary()"
   ]
  },
  {
   "cell_type": "markdown",
   "metadata": {},
   "source": [
    "# TensorDash\n",
    "### Steps:\n",
    "* Download Tensordash from Play Store and install on mobile phone.\n",
    "* configure the same credentials here while defining the TensorDash instance. Use this instance as the callbacks in the model training.\n",
    "* Access this model details on mobile phone."
   ]
  },
  {
   "cell_type": "code",
   "execution_count": 16,
   "metadata": {},
   "outputs": [
    {
     "name": "stdout",
     "output_type": "stream",
     "text": [
      "Enter Tensordash Password :········\n"
     ]
    }
   ],
   "source": [
    "from tensordash.tensordash import Tensordash\n",
    "history = Tensordash(\n",
    "    ModelName='EmergencyVehicleClassification',\n",
    "    email='himanshubhusan88@gmail.com'\n",
    ")"
   ]
  },
  {
   "cell_type": "code",
   "execution_count": null,
   "metadata": {},
   "outputs": [],
   "source": []
  },
  {
   "cell_type": "code",
   "execution_count": 18,
   "metadata": {
    "scrolled": true
   },
   "outputs": [
    {
     "name": "stdout",
     "output_type": "stream",
     "text": [
      "Train on 1646 samples, validate on 706 samples\n",
      "Epoch 1/10\n",
      "1646/1646 [==============================] - 4s 2ms/step - loss: 0.6242 - accuracy: 0.6804 - val_loss: 0.6290 - val_accuracy: 0.6671\n",
      "Epoch 2/10\n",
      "1646/1646 [==============================] - 4s 2ms/step - loss: 0.6204 - accuracy: 0.6810 - val_loss: 0.6244 - val_accuracy: 0.6841\n",
      "Epoch 3/10\n",
      "1646/1646 [==============================] - 4s 2ms/step - loss: 0.6183 - accuracy: 0.6908 - val_loss: 0.6246 - val_accuracy: 0.6700\n",
      "Epoch 4/10\n",
      "1646/1646 [==============================] - 4s 2ms/step - loss: 0.6154 - accuracy: 0.6902 - val_loss: 0.6220 - val_accuracy: 0.6671\n",
      "Epoch 5/10\n",
      "1646/1646 [==============================] - 4s 2ms/step - loss: 0.6137 - accuracy: 0.6847 - val_loss: 0.6179 - val_accuracy: 0.6799\n",
      "Epoch 6/10\n",
      "1646/1646 [==============================] - 4s 2ms/step - loss: 0.6098 - accuracy: 0.7017 - val_loss: 0.6188 - val_accuracy: 0.6671\n",
      "Epoch 7/10\n",
      "1646/1646 [==============================] - 4s 2ms/step - loss: 0.6072 - accuracy: 0.7047 - val_loss: 0.6149 - val_accuracy: 0.6742\n",
      "Epoch 8/10\n",
      "1646/1646 [==============================] - 4s 2ms/step - loss: 0.6063 - accuracy: 0.7029 - val_loss: 0.6126 - val_accuracy: 0.6827\n",
      "Epoch 9/10\n",
      "1646/1646 [==============================] - 4s 2ms/step - loss: 0.6030 - accuracy: 0.7114 - val_loss: 0.6133 - val_accuracy: 0.6742\n",
      "Epoch 10/10\n",
      "1646/1646 [==============================] - 4s 2ms/step - loss: 0.6020 - accuracy: 0.7041 - val_loss: 0.6108 - val_accuracy: 0.6813\n"
     ]
    },
    {
     "data": {
      "text/plain": [
       "<keras.callbacks.callbacks.History at 0x16d39d390>"
      ]
     },
     "execution_count": 18,
     "metadata": {},
     "output_type": "execute_result"
    }
   ],
   "source": [
    "model.fit(\n",
    "    X_train, \n",
    "    y_train, \n",
    "    epochs=10, \n",
    "    batch_size=128,\n",
    "    validation_data=(X_valid,y_valid),\n",
    "    callbacks=[history]\n",
    ")"
   ]
  },
  {
   "cell_type": "code",
   "execution_count": null,
   "metadata": {},
   "outputs": [],
   "source": []
  }
 ],
 "metadata": {
  "kernelspec": {
   "display_name": "Python 3",
   "language": "python",
   "name": "python3"
  },
  "language_info": {
   "codemirror_mode": {
    "name": "ipython",
    "version": 3
   },
   "file_extension": ".py",
   "mimetype": "text/x-python",
   "name": "python",
   "nbconvert_exporter": "python",
   "pygments_lexer": "ipython3",
   "version": "3.7.4"
  }
 },
 "nbformat": 4,
 "nbformat_minor": 2
}
