{
 "cells": [
  {
   "cell_type": "code",
   "execution_count": 2,
   "id": "genuine-surface",
   "metadata": {},
   "outputs": [],
   "source": [
    "#!pip install hummingbird-ml"
   ]
  },
  {
   "cell_type": "code",
   "execution_count": 23,
   "id": "sitting-harrison",
   "metadata": {},
   "outputs": [],
   "source": [
    "import numpy as np\n",
    "from sklearn.ensemble import RandomForestClassifier\n",
    "from hummingbird.ml import convert, load"
   ]
  },
  {
   "cell_type": "code",
   "execution_count": 14,
   "id": "bound-nickel",
   "metadata": {},
   "outputs": [],
   "source": [
    "# Prepare data\n",
    "num_classes = 2\n",
    "num_records = 100000\n",
    "num_features = 30\n",
    "\n",
    "X = np.random.rand(num_records,num_features)\n",
    "Y = np.random.randint(num_classes, size=num_records)"
   ]
  },
  {
   "cell_type": "code",
   "execution_count": 15,
   "id": "theoretical-custom",
   "metadata": {},
   "outputs": [
    {
     "data": {
      "text/plain": [
       "RandomForestClassifier(max_depth=10, n_estimators=10)"
      ]
     },
     "execution_count": 15,
     "metadata": {},
     "output_type": "execute_result"
    }
   ],
   "source": [
    "# Prepare the model\n",
    "orig_model = RandomForestClassifier(n_estimators=10, max_depth=10)\n",
    "orig_model.fit(X,Y)"
   ]
  },
  {
   "cell_type": "code",
   "execution_count": 17,
   "id": "editorial-touch",
   "metadata": {},
   "outputs": [],
   "source": [
    "# Convert this model to pytorch model\n",
    "pyt_model = convert(orig_model,'pytorch')"
   ]
  },
  {
   "cell_type": "code",
   "execution_count": 18,
   "id": "damaged-complaint",
   "metadata": {},
   "outputs": [
    {
     "data": {
      "text/plain": [
       "array([0, 1, 0, ..., 0, 0, 1])"
      ]
     },
     "execution_count": 18,
     "metadata": {},
     "output_type": "execute_result"
    }
   ],
   "source": [
    "# Run predictions on CPU\n",
    "pyt_model.predict(X)"
   ]
  },
  {
   "cell_type": "code",
   "execution_count": 20,
   "id": "official-compensation",
   "metadata": {},
   "outputs": [],
   "source": [
    "# Run predictions on GPU. Uncomment the below two lines\n",
    "#\n",
    "# pyt_model.to('cuda')\n",
    "# pyt_model.predict(X)"
   ]
  },
  {
   "cell_type": "code",
   "execution_count": 24,
   "id": "major-reaction",
   "metadata": {},
   "outputs": [],
   "source": [
    "# Save the model\n",
    "pyt_model.save('hb_model')\n",
    "\n",
    "# Load the model back\n",
    "pyt_model = load('hb_model')"
   ]
  },
  {
   "cell_type": "code",
   "execution_count": null,
   "id": "consistent-military",
   "metadata": {},
   "outputs": [],
   "source": []
  }
 ],
 "metadata": {
  "kernelspec": {
   "display_name": "Python 3",
   "language": "python",
   "name": "python3"
  },
  "language_info": {
   "codemirror_mode": {
    "name": "ipython",
    "version": 3
   },
   "file_extension": ".py",
   "mimetype": "text/x-python",
   "name": "python",
   "nbconvert_exporter": "python",
   "pygments_lexer": "ipython3",
   "version": "3.7.4"
  }
 },
 "nbformat": 4,
 "nbformat_minor": 5
}
