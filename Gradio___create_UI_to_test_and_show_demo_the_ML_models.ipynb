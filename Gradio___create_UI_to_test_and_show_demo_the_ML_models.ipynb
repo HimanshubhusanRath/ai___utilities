{
 "cells": [
  {
   "cell_type": "code",
   "execution_count": 3,
   "id": "cultural-eligibility",
   "metadata": {},
   "outputs": [],
   "source": [
    "# https://www.gradio.app/ml_examples\n",
    "# !pip install gradio"
   ]
  },
  {
   "cell_type": "code",
   "execution_count": 67,
   "id": "white-budapest",
   "metadata": {},
   "outputs": [],
   "source": [
    "import gradio as gr\n",
    "import numpy as np\n",
    "import requests\n",
    "\n",
    "import tensorflow as tf\n",
    "from tensorflow.keras.applications import InceptionV3\n",
    "from tensorflow.keras.applications.inception_v3 import preprocess_input"
   ]
  },
  {
   "cell_type": "markdown",
   "id": "scenic-porcelain",
   "metadata": {},
   "source": [
    "## Demo - 1\n",
    "Simple text based input and output with Gradio"
   ]
  },
  {
   "cell_type": "code",
   "execution_count": 68,
   "id": "compatible-explanation",
   "metadata": {},
   "outputs": [],
   "source": [
    "def greet(msg):\n",
    "    return 'Hello, ' + msg"
   ]
  },
  {
   "cell_type": "code",
   "execution_count": 69,
   "id": "specified-finish",
   "metadata": {},
   "outputs": [
    {
     "name": "stdout",
     "output_type": "stream",
     "text": [
      "Running locally at: http://127.0.0.1:7875/\n",
      "To create a public link, set `share=True` in `launch()`.\n",
      "Interface loading below...\n"
     ]
    },
    {
     "data": {
      "text/html": [
       "\n",
       "        <iframe\n",
       "            width=\"900\"\n",
       "            height=\"500\"\n",
       "            src=\"http://127.0.0.1:7875/\"\n",
       "            frameborder=\"0\"\n",
       "            allowfullscreen\n",
       "        ></iframe>\n",
       "        "
      ],
      "text/plain": [
       "<IPython.lib.display.IFrame at 0x181691d90>"
      ]
     },
     "metadata": {},
     "output_type": "display_data"
    },
    {
     "data": {
      "text/plain": [
       "(<Flask 'gradio.networking'>, 'http://127.0.0.1:7875/', None)"
      ]
     },
     "execution_count": 69,
     "metadata": {},
     "output_type": "execute_result"
    }
   ],
   "source": [
    "launcher = gr.Interface(fn=greet, inputs=\"text\", outputs=\"text\")\n",
    "launcher.launch()"
   ]
  },
  {
   "cell_type": "markdown",
   "id": "surprised-needle",
   "metadata": {},
   "source": [
    "## Demo - 2\n",
    "Deep Learning model for image classification"
   ]
  },
  {
   "cell_type": "code",
   "execution_count": 70,
   "id": "compact-yield",
   "metadata": {},
   "outputs": [],
   "source": [
    "# Define the model\n",
    "model = InceptionV3()"
   ]
  },
  {
   "cell_type": "code",
   "execution_count": 88,
   "id": "conscious-hands",
   "metadata": {},
   "outputs": [],
   "source": [
    "# Download human-readable labels for ImageNet\n",
    "response = requests.get(\"https://git.io/JJkYN\")\n",
    "labels = response.text.split(\"\\n\")\n",
    "# Remove label with value as ''\n",
    "labels.remove('')"
   ]
  },
  {
   "cell_type": "code",
   "execution_count": 89,
   "id": "weekly-recruitment",
   "metadata": {},
   "outputs": [
    {
     "data": {
      "text/plain": [
       "1000"
      ]
     },
     "execution_count": 89,
     "metadata": {},
     "output_type": "execute_result"
    }
   ],
   "source": [
    "len(labels)"
   ]
  },
  {
   "cell_type": "code",
   "execution_count": 91,
   "id": "indirect-chocolate",
   "metadata": {},
   "outputs": [],
   "source": [
    "def classify(img):\n",
    "    img = img.reshape((-1,299,299,3))\n",
    "    img = preprocess_input(img)\n",
    "    pred = model.predict(img).flatten()\n",
    "    return  { labels[i]: float(pred[i]) for i in range(len(pred))}"
   ]
  },
  {
   "cell_type": "code",
   "execution_count": 92,
   "id": "minor-essay",
   "metadata": {},
   "outputs": [
    {
     "name": "stdout",
     "output_type": "stream",
     "text": [
      "Running locally at: http://127.0.0.1:7880/\n",
      "To create a public link, set `share=True` in `launch()`.\n",
      "Interface loading below...\n"
     ]
    },
    {
     "data": {
      "text/html": [
       "\n",
       "        <iframe\n",
       "            width=\"900\"\n",
       "            height=\"500\"\n",
       "            src=\"http://127.0.0.1:7880/\"\n",
       "            frameborder=\"0\"\n",
       "            allowfullscreen\n",
       "        ></iframe>\n",
       "        "
      ],
      "text/plain": [
       "<IPython.lib.display.IFrame at 0x1a94aeb90>"
      ]
     },
     "metadata": {},
     "output_type": "display_data"
    },
    {
     "data": {
      "text/plain": [
       "(<Flask 'gradio.networking'>, 'http://127.0.0.1:7880/', None)"
      ]
     },
     "execution_count": 92,
     "metadata": {},
     "output_type": "execute_result"
    },
    {
     "name": "stdout",
     "output_type": "stream",
     "text": [
      "1000\n",
      "1000\n"
     ]
    }
   ],
   "source": [
    "# Define the input for gradio\n",
    "image = gr.inputs.Image(shape=(299,299))\n",
    "# Define the output for gradio\n",
    "output_labels = gr.outputs.Label(num_top_classes=4)\n",
    "\n",
    "\n",
    "launcher = gr.Interface(fn=classify, inputs=image, outputs=output_labels)\n",
    "launcher.launch()"
   ]
  },
  {
   "cell_type": "code",
   "execution_count": null,
   "id": "mounted-video",
   "metadata": {},
   "outputs": [],
   "source": []
  }
 ],
 "metadata": {
  "kernelspec": {
   "display_name": "Python 3",
   "language": "python",
   "name": "python3"
  },
  "language_info": {
   "codemirror_mode": {
    "name": "ipython",
    "version": 3
   },
   "file_extension": ".py",
   "mimetype": "text/x-python",
   "name": "python",
   "nbconvert_exporter": "python",
   "pygments_lexer": "ipython3",
   "version": "3.7.4"
  }
 },
 "nbformat": 4,
 "nbformat_minor": 5
}
